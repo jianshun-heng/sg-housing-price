{
 "cells": [
  {
   "cell_type": "markdown",
   "id": "c6633252-62f8-45a8-998f-dfb467f28750",
   "metadata": {},
   "source": [
    "# Import other python script functions"
   ]
  },
  {
   "cell_type": "code",
   "execution_count": 1,
   "id": "8e391a0b-61d1-4ed1-8587-bed52fd774c8",
   "metadata": {
    "tags": []
   },
   "outputs": [
    {
     "ename": "ModuleNotFoundError",
     "evalue": "No module named 'data_cleaning'",
     "output_type": "error",
     "traceback": [
      "\u001b[1;31m---------------------------------------------------------------------------\u001b[0m",
      "\u001b[1;31mModuleNotFoundError\u001b[0m                       Traceback (most recent call last)",
      "Cell \u001b[1;32mIn[1], line 1\u001b[0m\n\u001b[1;32m----> 1\u001b[0m \u001b[38;5;28;01mfrom\u001b[39;00m \u001b[38;5;21;01mdata_cleaning\u001b[39;00m \u001b[38;5;28;01mimport\u001b[39;00m clean_raw_data\n",
      "\u001b[1;31mModuleNotFoundError\u001b[0m: No module named 'data_cleaning'"
     ]
    }
   ],
   "source": [
    "from data_cleaning import clean_raw_data"
   ]
  },
  {
   "cell_type": "markdown",
   "id": "2368a4c2-09bf-4590-9d23-11fa3102504a",
   "metadata": {},
   "source": [
    "# Import resale flat price data"
   ]
  },
  {
   "cell_type": "code",
   "execution_count": null,
   "id": "488b48ab-2bd7-4639-a92d-360c186c49ea",
   "metadata": {},
   "outputs": [],
   "source": [
    "df_raw = pd.read_csv('data/resale_flat_prices.csv')\n",
    "df_raw"
   ]
  }
 ],
 "metadata": {
  "kernelspec": {
   "display_name": "sg-housing-price",
   "language": "python",
   "name": "sg-housing-price"
  },
  "language_info": {
   "codemirror_mode": {
    "name": "ipython",
    "version": 3
   },
   "file_extension": ".py",
   "mimetype": "text/x-python",
   "name": "python",
   "nbconvert_exporter": "python",
   "pygments_lexer": "ipython3",
   "version": "3.11.5"
  }
 },
 "nbformat": 4,
 "nbformat_minor": 5
}
