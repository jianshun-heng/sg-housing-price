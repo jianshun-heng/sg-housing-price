{
 "cells": [
  {
   "cell_type": "code",
   "execution_count": 1,
   "id": "8bd5ee76-aa23-488d-9f4d-3e29974ce6fb",
   "metadata": {
    "tags": []
   },
   "outputs": [],
   "source": [
    "import pandas as pd\n",
    "import numpy as np\n",
    "import seaborn as sns\n",
    "import matplotlib.pyplot as plt\n",
    "from matplotlib.ticker import FuncFormatter\n",
    "from matplotlib.dates import DateFormatter, MonthLocator\n",
    "\n",
    "# Geospatial\n",
    "import folium\n",
    "import geopandas as gpd\n",
    "from bs4 import BeautifulSoup\n"
   ]
  },
  {
   "cell_type": "markdown",
   "id": "475661d0-2acf-488c-ba06-d10caa7325bc",
   "metadata": {},
   "source": [
    "# Import other python script functions"
   ]
  },
  {
   "cell_type": "code",
   "execution_count": 19,
   "id": "d1c86225-770e-48b5-a40d-1b2ae4cc3686",
   "metadata": {
    "tags": []
   },
   "outputs": [
    {
     "ename": "ImportError",
     "evalue": "attempted relative import with no known parent package",
     "output_type": "error",
     "traceback": [
      "\u001b[1;31m---------------------------------------------------------------------------\u001b[0m",
      "\u001b[1;31mImportError\u001b[0m                               Traceback (most recent call last)",
      "Cell \u001b[1;32mIn[19], line 1\u001b[0m\n\u001b[1;32m----> 1\u001b[0m \u001b[38;5;28;01mfrom\u001b[39;00m \u001b[38;5;21;01m.\u001b[39;00m\u001b[38;5;21;01m.\u001b[39;00m\u001b[38;5;21;01mscripts\u001b[39;00m \u001b[38;5;28;01mimport\u001b[39;00m data_cleaning\n",
      "\u001b[1;31mImportError\u001b[0m: attempted relative import with no known parent package"
     ]
    }
   ],
   "source": [
    "from ..scripts import data_cleaning"
   ]
  },
  {
   "cell_type": "code",
   "execution_count": 16,
   "id": "9ebb72d7-c057-4307-93de-591e0cd5de39",
   "metadata": {
    "tags": []
   },
   "outputs": [
    {
     "ename": "ImportError",
     "evalue": "attempted relative import with no known parent package",
     "output_type": "error",
     "traceback": [
      "\u001b[1;31m---------------------------------------------------------------------------\u001b[0m",
      "\u001b[1;31mImportError\u001b[0m                               Traceback (most recent call last)",
      "Cell \u001b[1;32mIn[16], line 1\u001b[0m\n\u001b[1;32m----> 1\u001b[0m \u001b[38;5;28;01mfrom\u001b[39;00m \u001b[38;5;21;01m.\u001b[39;00m \u001b[38;5;28;01mimport\u001b[39;00m scripts\n",
      "\u001b[1;31mImportError\u001b[0m: attempted relative import with no known parent package"
     ]
    }
   ],
   "source": [
    "from . import scripts"
   ]
  },
  {
   "cell_type": "code",
   "execution_count": null,
   "id": "71991006-9832-416b-88bf-9c4d7e4fa894",
   "metadata": {},
   "outputs": [],
   "source": []
  },
  {
   "cell_type": "code",
   "execution_count": 5,
   "id": "6f081d40-e76e-4bba-b6d7-fd46c64bec29",
   "metadata": {
    "tags": []
   },
   "outputs": [
    {
     "ename": "ImportError",
     "evalue": "attempted relative import with no known parent package",
     "output_type": "error",
     "traceback": [
      "\u001b[1;31m---------------------------------------------------------------------------\u001b[0m",
      "\u001b[1;31mImportError\u001b[0m                               Traceback (most recent call last)",
      "Cell \u001b[1;32mIn[5], line 1\u001b[0m\n\u001b[1;32m----> 1\u001b[0m \u001b[38;5;28;01mfrom\u001b[39;00m \u001b[38;5;21;01m.\u001b[39;00m\u001b[38;5;21;01m.\u001b[39;00m\u001b[38;5;21;01mscripts\u001b[39;00m\u001b[38;5;21;01m.\u001b[39;00m\u001b[38;5;21;01mdata_cleaning\u001b[39;00m \u001b[38;5;28;01mimport\u001b[39;00m clean_raw_data\n\u001b[0;32m      2\u001b[0m \u001b[38;5;28;01mfrom\u001b[39;00m \u001b[38;5;21;01m.\u001b[39;00m\u001b[38;5;21;01m.\u001b[39;00m\u001b[38;5;21;01mscripts\u001b[39;00m\u001b[38;5;21;01m.\u001b[39;00m\u001b[38;5;21;01mclean_planning_area\u001b[39;00m \u001b[38;5;28;01mimport\u001b[39;00m format_geojson_planning_area\n",
      "\u001b[1;31mImportError\u001b[0m: attempted relative import with no known parent package"
     ]
    }
   ],
   "source": [
    "from scripts.data_cleaning import clean_raw_data\n",
    "from scripts.clean_planning_area import format_geojson_planning_area"
   ]
  },
  {
   "cell_type": "markdown",
   "id": "8f8113ae-5873-4ca6-8fd7-b467dd336a86",
   "metadata": {},
   "source": [
    "# Import datasets"
   ]
  },
  {
   "cell_type": "code",
   "execution_count": 11,
   "id": "ca32e729-1c2f-4442-bc89-e98de58793ad",
   "metadata": {},
   "outputs": [],
   "source": [
    "# Import resale flat price data\n",
    "df_raw = pd.read_csv('../data/raw_data/resale_flat_prices.csv')\n",
    "\n",
    "# Import raw planning area file\n",
    "gdf = gpd.read_file('../data/raw_data/geographical_shape_file/MasterPlan2019PlanningAreaBoundaryNoSea.geojson', driver = 'GeoJSON')"
   ]
  },
  {
   "cell_type": "markdown",
   "id": "de3e136e-3099-4ce8-92a7-187807c07866",
   "metadata": {
    "tags": []
   },
   "source": [
    "# Clean Datasets"
   ]
  },
  {
   "cell_type": "code",
   "execution_count": 14,
   "id": "936bebc3-7d0f-4359-aab7-2120e6b81ffe",
   "metadata": {},
   "outputs": [
    {
     "ename": "AttributeError",
     "evalue": "module 'scripts' has no attribute 'data_cleaning'",
     "output_type": "error",
     "traceback": [
      "\u001b[1;31m---------------------------------------------------------------------------\u001b[0m",
      "\u001b[1;31mAttributeError\u001b[0m                            Traceback (most recent call last)",
      "Cell \u001b[1;32mIn[14], line 1\u001b[0m\n\u001b[1;32m----> 1\u001b[0m df_clean \u001b[38;5;241m=\u001b[39m scripts\u001b[38;5;241m.\u001b[39mdata_cleaning\u001b[38;5;241m.\u001b[39mclean_raw_data(df_raw)\n",
      "\u001b[1;31mAttributeError\u001b[0m: module 'scripts' has no attribute 'data_cleaning'"
     ]
    }
   ],
   "source": [
    "df_clean = scripts.data_cleaning.clean_raw_data(df_raw)\n",
    "# sg_planning_area = scripts.format_geojson_planning_area(gdf)"
   ]
  }
 ],
 "metadata": {
  "kernelspec": {
   "display_name": "Python (sg-housing-price)",
   "language": "python",
   "name": "sg-housing-price"
  },
  "language_info": {
   "codemirror_mode": {
    "name": "ipython",
    "version": 3
   },
   "file_extension": ".py",
   "mimetype": "text/x-python",
   "name": "python",
   "nbconvert_exporter": "python",
   "pygments_lexer": "ipython3",
   "version": "3.11.5"
  }
 },
 "nbformat": 4,
 "nbformat_minor": 5
}
