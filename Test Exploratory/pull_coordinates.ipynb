{
 "cells": [
  {
   "cell_type": "code",
   "execution_count": null,
   "id": "2dd787aa-2a48-4afd-b177-1da635e133a4",
   "metadata": {},
   "outputs": [],
   "source": [
    "import request\n",
    "import json\n",
    "\n",
    "def find_postal(lst, filename):\n",
    "    '''With the block number and street name, get the full address of the hdb flat,\n",
    "    including the postal code, geogaphical coordinates (lat/long)'''\n",
    "    \n",
    "    for index,add in enumerate(lst):\n",
    "        # Do not need to change the URL\n",
    "        url= \"https://developers.onemap.sg/commonapi/search?returnGeom=Y&getAddrDetails=Y&pageNum=1&searchVal=\"+ add        \n",
    "        print(index,url)\n",
    "        \n",
    "        # Retrieve information from website\n",
    "        response = requests.get(url)\n",
    "        data = json.loads(response.text) \n",
    "    \n",
    "        temp_df = pd.DataFrame.from_dict(data[\"results\"])\n",
    "        # The \"add\" is the address that was used to search in the website\n",
    "        temp_df[\"address\"] = add\n",
    "        \n",
    "        # Create the file with the first row that is read in \n",
    "        if index == 0:\n",
    "            file = temp_df\n",
    "        else:\n",
    "            file = file.append(temp_df)\n",
    "    file.to_csv(filename + '.csv')"
   ]
  },
  {
   "cell_type": "code",
   "execution_count": null,
   "id": "da843338-afbf-4463-a747-09a7ca839277",
   "metadata": {},
   "outputs": [],
   "source": [
    "origin_destination = [[(1.3772, 103.9343), (1.3761, 103.7502)],\n",
    "                     ]"
   ]
  }
 ],
 "metadata": {
  "kernelspec": {
   "display_name": "Python (sg-housing-price)",
   "language": "python",
   "name": "sg-housing-price"
  },
  "language_info": {
   "codemirror_mode": {
    "name": "ipython",
    "version": 3
   },
   "file_extension": ".py",
   "mimetype": "text/x-python",
   "name": "python",
   "nbconvert_exporter": "python",
   "pygments_lexer": "ipython3",
   "version": "3.11.5"
  }
 },
 "nbformat": 4,
 "nbformat_minor": 5
}
