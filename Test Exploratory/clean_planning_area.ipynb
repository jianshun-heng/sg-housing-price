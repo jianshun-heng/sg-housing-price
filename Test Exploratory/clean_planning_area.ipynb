{
 "cells": [
  {
   "cell_type": "code",
   "execution_count": 10,
   "id": "7de86d17-3d3d-494d-88a4-44008168fc57",
   "metadata": {
    "tags": []
   },
   "outputs": [
    {
     "data": {
      "text/plain": [
       "'\\n%pip install folium\\n%pip install geopandas\\n'"
      ]
     },
     "execution_count": 10,
     "metadata": {},
     "output_type": "execute_result"
    }
   ],
   "source": [
    "\"\"\"\n",
    "%pip install folium\n",
    "%pip install geopandas\n",
    "\"\"\""
   ]
  },
  {
   "cell_type": "code",
   "execution_count": 11,
   "id": "4ae3c35f-c469-44eb-b5e2-70cd72e25b5f",
   "metadata": {
    "tags": []
   },
   "outputs": [],
   "source": [
    "# pip freeze"
   ]
  },
  {
   "cell_type": "code",
   "execution_count": 17,
   "id": "7f781e28-4165-44c6-841a-b8d75c395a06",
   "metadata": {
    "tags": []
   },
   "outputs": [],
   "source": [
    "def format_geojson_planning_area(gdf):\n",
    "    # Define a function to extract header cells and data cells from an HTML string\n",
    "    def extract_cells_from_html(html_string):\n",
    "        soup = BeautifulSoup(html_string, 'html.parser')\n",
    "        rows_of_interest = soup.find_all('tr', bgcolor=[\"#E3E3F3\", \"\"])\n",
    "        th_elements = []\n",
    "        td_elements = []\n",
    "        for row in rows_of_interest:\n",
    "            th_elements.extend(row.find_all('th'))\n",
    "            td_elements.extend(row.find_all('td'))\n",
    "        th_content = [th.get_text(strip=True) for th in th_elements]  # Header cells\n",
    "        td_content = [td.get_text(strip=True) for td in td_elements]  # Data cells\n",
    "        info_dict = dict(zip(th_content, td_content))\n",
    "        return info_dict\n",
    "\n",
    "    # Apply the extraction function to the 'Description' column\n",
    "    gdf['Extracted_Data'] = gdf['Description'].apply(extract_cells_from_html)\n",
    "\n",
    "    # Create new columns for each key-value pair in the dictionary\n",
    "    for key in gdf['Extracted_Data'][0].keys():\n",
    "        gdf[key] = gdf['Extracted_Data'].apply(lambda x: x.get(key))\n",
    "\n",
    "    # # Drop the original 'Description' and 'Extracted_Data' columns if not needed\n",
    "    gdf = gdf.drop(columns=['Description', 'Extracted_Data'])\n",
    "    \n",
    "    return gdf"
   ]
  }
 ],
 "metadata": {
  "kernelspec": {
   "display_name": "Python (sg-housing-price)",
   "language": "python",
   "name": "sg-housing-price"
  },
  "language_info": {
   "codemirror_mode": {
    "name": "ipython",
    "version": 3
   },
   "file_extension": ".py",
   "mimetype": "text/x-python",
   "name": "python",
   "nbconvert_exporter": "python",
   "pygments_lexer": "ipython3",
   "version": "3.11.5"
  }
 },
 "nbformat": 4,
 "nbformat_minor": 5
}
